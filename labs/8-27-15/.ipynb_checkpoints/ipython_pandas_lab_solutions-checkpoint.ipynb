{
 "cells": [
  {
   "cell_type": "markdown",
   "metadata": {
    "slideshow": {
     "slide_type": "slide"
    }
   },
   "source": [
    "# A practical introduction to IPython Notebook & pandas\n",
    "\n",
    "A version of this tutorial was given by Julia Evans at PyData NYC 2013\n",
    "You can find her: [http://jvns.ca](http://jvns.ca), [http://twitter.com/b0rk](http://twitter.com/b0rk)\n",
    "(check her out- she does awesome work)\n",
    "\n",
    "It was updated by Dr. Amy Roberts in August 2015 for use with General Assembly DAT-NYC-25\n",
    "\n",
    "Follow along by downloading this presentation and running the code yourself:\n",
    "\n",
    "Be sure to save the data and the ipython notebook in the same directory!\n"
   ]
  },
  {
   "cell_type": "code",
   "execution_count": 56,
   "metadata": {
    "collapsed": false,
    "slideshow": {
     "slide_type": "skip"
    }
   },
   "outputs": [
    {
     "name": "stdout",
     "output_type": "stream",
     "text": [
      "Populating the interactive namespace from numpy and matplotlib\n"
     ]
    }
   ],
   "source": [
    "%pylab inline\n",
    "import pandas as pd\n",
    "pd.set_option('display.mpl_style', 'default')\n",
    "figsize(15, 6)\n",
    "pd.set_option('display.width', 4000)\n",
    "pd.set_option('display.max_columns', 100)"
   ]
  },
  {
   "cell_type": "markdown",
   "metadata": {
    "slideshow": {
     "slide_type": "slide"
    }
   },
   "source": [
    "# Objective 1\n",
    "\n",
    "Know how to use IPython Notebook + pandas to answer your questions about data\n",
    "\n",
    "* How to start IPython Notebook\n",
    "* How to read data into pandas\n",
    "* How to do manipulations on pandas dataframes"
   ]
  },
  {
   "cell_type": "markdown",
   "metadata": {
    "slideshow": {
     "slide_type": "slide"
    }
   },
   "source": [
    "# Objective 2\n",
    "\n",
    "Know how to use pandas to answer some specific questions about a dataset\n",
    "\n",
    "Roadmap:\n",
    "\n",
    "1. Demo\n",
    "2. Dataframes: what makes pandas *powerful*\n",
    "3. Selecting data from a dataframe\n",
    "4. Groupby + aggregate"
   ]
  },
  {
   "cell_type": "markdown",
   "metadata": {},
   "source": [
    "# Start a notebook:\n",
    "\n",
    "You can start IPython notebook by running\n",
    "\n",
    "```\n",
    "ipython notebook\n",
    "```\n",
    "have a notebook already? \n",
    "\n",
    "```\n",
    "ipython notebook FILENAME\n",
    "```"
   ]
  },
  {
   "cell_type": "markdown",
   "metadata": {
    "slideshow": {
     "slide_type": "slide"
    }
   },
   "source": [
    "# What is pandas?\n",
    "<img src=\"http://images6.fanpop.com/image/photos/34700000/Cute-Black-and-White-Panda-colors-34704878-2560-1600.jpg\">"
   ]
  },
  {
   "cell_type": "markdown",
   "metadata": {
    "slideshow": {
     "slide_type": "slide"
    }
   },
   "source": [
    "# A few awesome things about pandas\n",
    "\n",
    "* Good at time series\n",
    "* Can import and export Excel files (!!!)\n",
    "* Fast (joining dataframes, etc.)"
   ]
  },
  {
   "cell_type": "markdown",
   "metadata": {
    "slideshow": {
     "slide_type": "skip"
    }
   },
   "source": [
    "This is what lets you manipulate data easily -- the dataframe is basically the whole reason for pandas. It's a powerful concept from the statistical computing language *R*.\n",
    "\n",
    "If you don't know R, you can think of it like a database table (it has rows and columns), or like an excel table."
   ]
  },
  {
   "cell_type": "markdown",
   "metadata": {
    "slideshow": {
     "slide_type": "slide"
    }
   },
   "source": [
    "# 1. Dataframes: what makes pandas powerful"
   ]
  },
  {
   "cell_type": "markdown",
   "metadata": {
    "slideshow": {
     "slide_type": "skip"
    }
   },
   "source": [
    "This is a like a SQL database, or an R dataframe. There are 3 *columns*, called 'name', 'age', and 'height, and 6 *rows*."
   ]
  },
  {
   "cell_type": "code",
   "execution_count": 84,
   "metadata": {
    "collapsed": false
   },
   "outputs": [
    {
     "data": {
      "text/html": [
       "<div>\n",
       "<table border=\"1\" class=\"dataframe\">\n",
       "  <thead>\n",
       "    <tr style=\"text-align: right;\">\n",
       "      <th></th>\n",
       "      <th>Name</th>\n",
       "      <th>Company</th>\n",
       "      <th>Species</th>\n",
       "      <th>Profession</th>\n",
       "      <th>Age</th>\n",
       "    </tr>\n",
       "  </thead>\n",
       "  <tbody>\n",
       "    <tr>\n",
       "      <th>0</th>\n",
       "      <td>Fry</td>\n",
       "      <td>Planet Express</td>\n",
       "      <td>human</td>\n",
       "      <td>delivery</td>\n",
       "      <td>1039</td>\n",
       "    </tr>\n",
       "    <tr>\n",
       "      <th>1</th>\n",
       "      <td>Leela</td>\n",
       "      <td>Plant Express</td>\n",
       "      <td>mutant</td>\n",
       "      <td>captain</td>\n",
       "      <td>37</td>\n",
       "    </tr>\n",
       "    <tr>\n",
       "      <th>2</th>\n",
       "      <td>Zoidberg</td>\n",
       "      <td>Planet Express</td>\n",
       "      <td>decapodian</td>\n",
       "      <td>doctor</td>\n",
       "      <td>86</td>\n",
       "    </tr>\n",
       "    <tr>\n",
       "      <th>3</th>\n",
       "      <td>Bender</td>\n",
       "      <td>Planet Express</td>\n",
       "      <td>robot</td>\n",
       "      <td>bender</td>\n",
       "      <td>17</td>\n",
       "    </tr>\n",
       "    <tr>\n",
       "      <th>4</th>\n",
       "      <td>Amy</td>\n",
       "      <td>Planet Express</td>\n",
       "      <td>human</td>\n",
       "      <td>intern</td>\n",
       "      <td>35</td>\n",
       "    </tr>\n",
       "    <tr>\n",
       "      <th>5</th>\n",
       "      <td>Hermes</td>\n",
       "      <td>Planet Express</td>\n",
       "      <td>human</td>\n",
       "      <td>accountant</td>\n",
       "      <td>54</td>\n",
       "    </tr>\n",
       "    <tr>\n",
       "      <th>6</th>\n",
       "      <td>Professor</td>\n",
       "      <td>Planet Express</td>\n",
       "      <td>human</td>\n",
       "      <td>scientist</td>\n",
       "      <td>173</td>\n",
       "    </tr>\n",
       "  </tbody>\n",
       "</table>\n",
       "</div>"
      ],
      "text/plain": [
       "        Name         Company     Species  Profession   Age\n",
       "0        Fry  Planet Express       human    delivery  1039\n",
       "1      Leela   Plant Express      mutant     captain    37\n",
       "2   Zoidberg  Planet Express  decapodian      doctor    86\n",
       "3     Bender  Planet Express       robot      bender    17\n",
       "4        Amy  Planet Express       human      intern    35\n",
       "5     Hermes  Planet Express       human  accountant    54\n",
       "6  Professor  Planet Express       human   scientist   173"
      ]
     },
     "execution_count": 84,
     "metadata": {},
     "output_type": "execute_result"
    }
   ],
   "source": [
    "futurama = pd.read_csv('./futurama.csv')\n",
    "futurama"
   ]
  },
  {
   "cell_type": "code",
   "execution_count": 27,
   "metadata": {
    "collapsed": false
   },
   "outputs": [
    {
     "data": {
      "text/html": [
       "<div>\n",
       "<table border=\"1\" class=\"dataframe\">\n",
       "  <thead>\n",
       "    <tr style=\"text-align: right;\">\n",
       "      <th></th>\n",
       "      <th>Name</th>\n",
       "      <th>Company</th>\n",
       "      <th>Species</th>\n",
       "      <th>Profession</th>\n",
       "    </tr>\n",
       "  </thead>\n",
       "  <tbody>\n",
       "    <tr>\n",
       "      <th>0</th>\n",
       "      <td>Fry</td>\n",
       "      <td>Planet Express</td>\n",
       "      <td>human</td>\n",
       "      <td>delivery</td>\n",
       "    </tr>\n",
       "    <tr>\n",
       "      <th>4</th>\n",
       "      <td>Amy</td>\n",
       "      <td>Planet Express</td>\n",
       "      <td>human</td>\n",
       "      <td>intern</td>\n",
       "    </tr>\n",
       "    <tr>\n",
       "      <th>5</th>\n",
       "      <td>Hermes</td>\n",
       "      <td>Planet Express</td>\n",
       "      <td>human</td>\n",
       "      <td>accountant</td>\n",
       "    </tr>\n",
       "    <tr>\n",
       "      <th>6</th>\n",
       "      <td>Professor</td>\n",
       "      <td>Planet Express</td>\n",
       "      <td>human</td>\n",
       "      <td>scientist</td>\n",
       "    </tr>\n",
       "  </tbody>\n",
       "</table>\n",
       "</div>"
      ],
      "text/plain": [
       "        Name         Company Species  Profession\n",
       "0        Fry  Planet Express   human    delivery\n",
       "4        Amy  Planet Express   human      intern\n",
       "5     Hermes  Planet Express   human  accountant\n",
       "6  Professor  Planet Express   human   scientist"
      ]
     },
     "execution_count": 27,
     "metadata": {},
     "output_type": "execute_result"
    }
   ],
   "source": [
    "futurama[futurama['Species'] == 'human']"
   ]
  },
  {
   "cell_type": "code",
   "execution_count": 28,
   "metadata": {
    "collapsed": false
   },
   "outputs": [
    {
     "data": {
      "text/plain": [
       "4"
      ]
     },
     "execution_count": 28,
     "metadata": {},
     "output_type": "execute_result"
    }
   ],
   "source": [
    "len(futurama[futurama['Species'] == 'human'])"
   ]
  },
  {
   "cell_type": "markdown",
   "metadata": {
    "slideshow": {
     "slide_type": "slide"
    }
   },
   "source": [
    "#Example- working with a subset of city data\n",
    "We are going to look at a CSV with 40 columns and 1,000,000 rows but subset it to just 5 rows so we can look at it"
   ]
  },
  {
   "cell_type": "code",
   "execution_count": 29,
   "metadata": {
    "collapsed": false,
    "slideshow": {
     "slide_type": "fragment"
    }
   },
   "outputs": [],
   "source": [
    "# Load the first 5 rows of our CSV\n",
    "small_requests = pd.read_csv('./311-service-requests.csv', nrows=5)"
   ]
  },
  {
   "cell_type": "code",
   "execution_count": 30,
   "metadata": {
    "collapsed": false
   },
   "outputs": [
    {
     "data": {
      "text/html": [
       "<div>\n",
       "<table border=\"1\" class=\"dataframe\">\n",
       "  <thead>\n",
       "    <tr style=\"text-align: right;\">\n",
       "      <th></th>\n",
       "      <th>Unique Key</th>\n",
       "      <th>Created Date</th>\n",
       "      <th>Closed Date</th>\n",
       "      <th>Agency</th>\n",
       "      <th>Agency Name</th>\n",
       "      <th>Complaint Type</th>\n",
       "      <th>Descriptor</th>\n",
       "      <th>Location Type</th>\n",
       "      <th>Incident Zip</th>\n",
       "      <th>Incident Address</th>\n",
       "      <th>...</th>\n",
       "      <th>Bridge Highway Name</th>\n",
       "      <th>Bridge Highway Direction</th>\n",
       "      <th>Road Ramp</th>\n",
       "      <th>Bridge Highway Segment</th>\n",
       "      <th>Garage Lot Name</th>\n",
       "      <th>Ferry Direction</th>\n",
       "      <th>Ferry Terminal Name</th>\n",
       "      <th>Latitude</th>\n",
       "      <th>Longitude</th>\n",
       "      <th>Location</th>\n",
       "    </tr>\n",
       "  </thead>\n",
       "  <tbody>\n",
       "    <tr>\n",
       "      <th>0</th>\n",
       "      <td>26589651</td>\n",
       "      <td>10/31/2013 02:08:41 AM</td>\n",
       "      <td>NaN</td>\n",
       "      <td>NYPD</td>\n",
       "      <td>New York City Police Department</td>\n",
       "      <td>Noise - Street/Sidewalk</td>\n",
       "      <td>Loud Talking</td>\n",
       "      <td>Street/Sidewalk</td>\n",
       "      <td>11432</td>\n",
       "      <td>90-03 169 STREET</td>\n",
       "      <td>...</td>\n",
       "      <td>NaN</td>\n",
       "      <td>NaN</td>\n",
       "      <td>NaN</td>\n",
       "      <td>NaN</td>\n",
       "      <td>NaN</td>\n",
       "      <td>NaN</td>\n",
       "      <td>NaN</td>\n",
       "      <td>40.708275</td>\n",
       "      <td>-73.791604</td>\n",
       "      <td>(40.70827532593202, -73.79160395779721)</td>\n",
       "    </tr>\n",
       "    <tr>\n",
       "      <th>1</th>\n",
       "      <td>26593698</td>\n",
       "      <td>10/31/2013 02:01:04 AM</td>\n",
       "      <td>NaN</td>\n",
       "      <td>NYPD</td>\n",
       "      <td>New York City Police Department</td>\n",
       "      <td>Illegal Parking</td>\n",
       "      <td>Commercial Overnight Parking</td>\n",
       "      <td>Street/Sidewalk</td>\n",
       "      <td>11378</td>\n",
       "      <td>58 AVENUE</td>\n",
       "      <td>...</td>\n",
       "      <td>NaN</td>\n",
       "      <td>NaN</td>\n",
       "      <td>NaN</td>\n",
       "      <td>NaN</td>\n",
       "      <td>NaN</td>\n",
       "      <td>NaN</td>\n",
       "      <td>NaN</td>\n",
       "      <td>40.721041</td>\n",
       "      <td>-73.909453</td>\n",
       "      <td>(40.721040535628305, -73.90945306791765)</td>\n",
       "    </tr>\n",
       "    <tr>\n",
       "      <th>2</th>\n",
       "      <td>26594139</td>\n",
       "      <td>10/31/2013 02:00:24 AM</td>\n",
       "      <td>10/31/2013 02:40:32 AM</td>\n",
       "      <td>NYPD</td>\n",
       "      <td>New York City Police Department</td>\n",
       "      <td>Noise - Commercial</td>\n",
       "      <td>Loud Music/Party</td>\n",
       "      <td>Club/Bar/Restaurant</td>\n",
       "      <td>10032</td>\n",
       "      <td>4060 BROADWAY</td>\n",
       "      <td>...</td>\n",
       "      <td>NaN</td>\n",
       "      <td>NaN</td>\n",
       "      <td>NaN</td>\n",
       "      <td>NaN</td>\n",
       "      <td>NaN</td>\n",
       "      <td>NaN</td>\n",
       "      <td>NaN</td>\n",
       "      <td>40.843330</td>\n",
       "      <td>-73.939144</td>\n",
       "      <td>(40.84332975466513, -73.93914371913482)</td>\n",
       "    </tr>\n",
       "    <tr>\n",
       "      <th>3</th>\n",
       "      <td>26595721</td>\n",
       "      <td>10/31/2013 01:56:23 AM</td>\n",
       "      <td>10/31/2013 02:21:48 AM</td>\n",
       "      <td>NYPD</td>\n",
       "      <td>New York City Police Department</td>\n",
       "      <td>Noise - Vehicle</td>\n",
       "      <td>Car/Truck Horn</td>\n",
       "      <td>Street/Sidewalk</td>\n",
       "      <td>10023</td>\n",
       "      <td>WEST 72 STREET</td>\n",
       "      <td>...</td>\n",
       "      <td>NaN</td>\n",
       "      <td>NaN</td>\n",
       "      <td>NaN</td>\n",
       "      <td>NaN</td>\n",
       "      <td>NaN</td>\n",
       "      <td>NaN</td>\n",
       "      <td>NaN</td>\n",
       "      <td>40.778009</td>\n",
       "      <td>-73.980213</td>\n",
       "      <td>(40.7780087446372, -73.98021349023975)</td>\n",
       "    </tr>\n",
       "    <tr>\n",
       "      <th>4</th>\n",
       "      <td>26590930</td>\n",
       "      <td>10/31/2013 01:53:44 AM</td>\n",
       "      <td>NaN</td>\n",
       "      <td>DOHMH</td>\n",
       "      <td>Department of Health and Mental Hygiene</td>\n",
       "      <td>Rodent</td>\n",
       "      <td>Condition Attracting Rodents</td>\n",
       "      <td>Vacant Lot</td>\n",
       "      <td>10027</td>\n",
       "      <td>WEST 124 STREET</td>\n",
       "      <td>...</td>\n",
       "      <td>NaN</td>\n",
       "      <td>NaN</td>\n",
       "      <td>NaN</td>\n",
       "      <td>NaN</td>\n",
       "      <td>NaN</td>\n",
       "      <td>NaN</td>\n",
       "      <td>NaN</td>\n",
       "      <td>40.807691</td>\n",
       "      <td>-73.947387</td>\n",
       "      <td>(40.80769092704951, -73.94738703491433)</td>\n",
       "    </tr>\n",
       "  </tbody>\n",
       "</table>\n",
       "<p>5 rows × 52 columns</p>\n",
       "</div>"
      ],
      "text/plain": [
       "   Unique Key            Created Date             Closed Date Agency  \\\n",
       "0    26589651  10/31/2013 02:08:41 AM                     NaN   NYPD   \n",
       "1    26593698  10/31/2013 02:01:04 AM                     NaN   NYPD   \n",
       "2    26594139  10/31/2013 02:00:24 AM  10/31/2013 02:40:32 AM   NYPD   \n",
       "3    26595721  10/31/2013 01:56:23 AM  10/31/2013 02:21:48 AM   NYPD   \n",
       "4    26590930  10/31/2013 01:53:44 AM                     NaN  DOHMH   \n",
       "\n",
       "                               Agency Name           Complaint Type  \\\n",
       "0          New York City Police Department  Noise - Street/Sidewalk   \n",
       "1          New York City Police Department          Illegal Parking   \n",
       "2          New York City Police Department       Noise - Commercial   \n",
       "3          New York City Police Department          Noise - Vehicle   \n",
       "4  Department of Health and Mental Hygiene                   Rodent   \n",
       "\n",
       "                     Descriptor        Location Type  Incident Zip  \\\n",
       "0                  Loud Talking      Street/Sidewalk         11432   \n",
       "1  Commercial Overnight Parking      Street/Sidewalk         11378   \n",
       "2              Loud Music/Party  Club/Bar/Restaurant         10032   \n",
       "3                Car/Truck Horn      Street/Sidewalk         10023   \n",
       "4  Condition Attracting Rodents           Vacant Lot         10027   \n",
       "\n",
       "   Incident Address                    ...                     \\\n",
       "0  90-03 169 STREET                    ...                      \n",
       "1         58 AVENUE                    ...                      \n",
       "2     4060 BROADWAY                    ...                      \n",
       "3    WEST 72 STREET                    ...                      \n",
       "4   WEST 124 STREET                    ...                      \n",
       "\n",
       "  Bridge Highway Name Bridge Highway Direction Road Ramp  \\\n",
       "0                 NaN                      NaN       NaN   \n",
       "1                 NaN                      NaN       NaN   \n",
       "2                 NaN                      NaN       NaN   \n",
       "3                 NaN                      NaN       NaN   \n",
       "4                 NaN                      NaN       NaN   \n",
       "\n",
       "   Bridge Highway Segment  Garage Lot Name Ferry Direction  \\\n",
       "0                     NaN              NaN             NaN   \n",
       "1                     NaN              NaN             NaN   \n",
       "2                     NaN              NaN             NaN   \n",
       "3                     NaN              NaN             NaN   \n",
       "4                     NaN              NaN             NaN   \n",
       "\n",
       "  Ferry Terminal Name   Latitude  Longitude  \\\n",
       "0                 NaN  40.708275 -73.791604   \n",
       "1                 NaN  40.721041 -73.909453   \n",
       "2                 NaN  40.843330 -73.939144   \n",
       "3                 NaN  40.778009 -73.980213   \n",
       "4                 NaN  40.807691 -73.947387   \n",
       "\n",
       "                                   Location  \n",
       "0   (40.70827532593202, -73.79160395779721)  \n",
       "1  (40.721040535628305, -73.90945306791765)  \n",
       "2   (40.84332975466513, -73.93914371913482)  \n",
       "3    (40.7780087446372, -73.98021349023975)  \n",
       "4   (40.80769092704951, -73.94738703491433)  \n",
       "\n",
       "[5 rows x 52 columns]"
      ]
     },
     "execution_count": 30,
     "metadata": {},
     "output_type": "execute_result"
    }
   ],
   "source": [
    "small_requests"
   ]
  },
  {
   "cell_type": "code",
   "execution_count": 32,
   "metadata": {
    "collapsed": false,
    "slideshow": {
     "slide_type": "fragment"
    }
   },
   "outputs": [
    {
     "data": {
      "text/plain": [
       "0    Noise - Street/Sidewalk\n",
       "1            Illegal Parking\n",
       "2         Noise - Commercial\n",
       "3            Noise - Vehicle\n",
       "4                     Rodent\n",
       "Name: Complaint Type, dtype: object"
      ]
     },
     "execution_count": 32,
     "metadata": {},
     "output_type": "execute_result"
    }
   ],
   "source": [
    "# Let's see the different complaint types \n",
    "small_requests['Complaint Type']"
   ]
  },
  {
   "cell_type": "code",
   "execution_count": 25,
   "metadata": {
    "collapsed": false
   },
   "outputs": [
    {
     "data": {
      "text/html": [
       "<div style=\"max-height:1000px;max-width:1500px;overflow:auto;\">\n",
       "<table border=\"1\" class=\"dataframe\">\n",
       "  <thead>\n",
       "    <tr style=\"text-align: right;\">\n",
       "      <th></th>\n",
       "      <th>Complaint Type</th>\n",
       "      <th>Created Date</th>\n",
       "    </tr>\n",
       "  </thead>\n",
       "  <tbody>\n",
       "    <tr>\n",
       "      <th>0</th>\n",
       "      <td> Noise - Street/Sidewalk</td>\n",
       "      <td> 10/31/2013 02:08:41 AM</td>\n",
       "    </tr>\n",
       "    <tr>\n",
       "      <th>1</th>\n",
       "      <td>         Illegal Parking</td>\n",
       "      <td> 10/31/2013 02:01:04 AM</td>\n",
       "    </tr>\n",
       "    <tr>\n",
       "      <th>2</th>\n",
       "      <td>      Noise - Commercial</td>\n",
       "      <td> 10/31/2013 02:00:24 AM</td>\n",
       "    </tr>\n",
       "    <tr>\n",
       "      <th>3</th>\n",
       "      <td>         Noise - Vehicle</td>\n",
       "      <td> 10/31/2013 01:56:23 AM</td>\n",
       "    </tr>\n",
       "    <tr>\n",
       "      <th>4</th>\n",
       "      <td>                  Rodent</td>\n",
       "      <td> 10/31/2013 01:53:44 AM</td>\n",
       "    </tr>\n",
       "  </tbody>\n",
       "</table>\n",
       "</div>"
      ],
      "text/plain": [
       "            Complaint Type            Created Date\n",
       "0  Noise - Street/Sidewalk  10/31/2013 02:08:41 AM\n",
       "1          Illegal Parking  10/31/2013 02:01:04 AM\n",
       "2       Noise - Commercial  10/31/2013 02:00:24 AM\n",
       "3          Noise - Vehicle  10/31/2013 01:56:23 AM\n",
       "4                   Rodent  10/31/2013 01:53:44 AM"
      ]
     },
     "execution_count": 25,
     "metadata": {},
     "output_type": "execute_result"
    }
   ],
   "source": [
    "# Now look at complaint type and Created Date\n",
    "small_requests[['Complaint Type', 'Created Date']]"
   ]
  },
  {
   "cell_type": "code",
   "execution_count": 26,
   "metadata": {
    "collapsed": false
   },
   "outputs": [
    {
     "data": {
      "text/html": [
       "<div style=\"max-height:1000px;max-width:1500px;overflow:auto;\">\n",
       "<table border=\"1\" class=\"dataframe\">\n",
       "  <thead>\n",
       "    <tr style=\"text-align: right;\">\n",
       "      <th></th>\n",
       "      <th>Unique Key</th>\n",
       "      <th>Created Date</th>\n",
       "      <th>Closed Date</th>\n",
       "      <th>Agency</th>\n",
       "      <th>Agency Name</th>\n",
       "      <th>Complaint Type</th>\n",
       "      <th>Descriptor</th>\n",
       "      <th>Location Type</th>\n",
       "      <th>Incident Zip</th>\n",
       "      <th>Incident Address</th>\n",
       "      <th>Street Name</th>\n",
       "      <th>Cross Street 1</th>\n",
       "      <th>Cross Street 2</th>\n",
       "      <th>Intersection Street 1</th>\n",
       "      <th>Intersection Street 2</th>\n",
       "      <th>Address Type</th>\n",
       "      <th>City</th>\n",
       "      <th>Landmark</th>\n",
       "      <th>Facility Type</th>\n",
       "      <th>Status</th>\n",
       "      <th>Due Date</th>\n",
       "      <th>Resolution Action Updated Date</th>\n",
       "      <th>Community Board</th>\n",
       "      <th>Borough</th>\n",
       "      <th>X Coordinate (State Plane)</th>\n",
       "      <th>Y Coordinate (State Plane)</th>\n",
       "      <th>Park Facility Name</th>\n",
       "      <th>Park Borough</th>\n",
       "      <th>School Name</th>\n",
       "      <th>School Number</th>\n",
       "      <th>School Region</th>\n",
       "      <th>School Code</th>\n",
       "      <th>School Phone Number</th>\n",
       "      <th>School Address</th>\n",
       "      <th>School City</th>\n",
       "      <th>School State</th>\n",
       "      <th>School Zip</th>\n",
       "      <th>School Not Found</th>\n",
       "      <th>School or Citywide Complaint</th>\n",
       "      <th>Vehicle Type</th>\n",
       "      <th>Taxi Company Borough</th>\n",
       "      <th>Taxi Pick Up Location</th>\n",
       "      <th>Bridge Highway Name</th>\n",
       "      <th>Bridge Highway Direction</th>\n",
       "      <th>Road Ramp</th>\n",
       "      <th>Bridge Highway Segment</th>\n",
       "      <th>Garage Lot Name</th>\n",
       "      <th>Ferry Direction</th>\n",
       "      <th>Ferry Terminal Name</th>\n",
       "      <th>Latitude</th>\n",
       "      <th>Longitude</th>\n",
       "      <th>Location</th>\n",
       "    </tr>\n",
       "  </thead>\n",
       "  <tbody>\n",
       "    <tr>\n",
       "      <th>0</th>\n",
       "      <td> 26589651</td>\n",
       "      <td> 10/31/2013 02:08:41 AM</td>\n",
       "      <td>                    NaN</td>\n",
       "      <td> NYPD</td>\n",
       "      <td> New York City Police Department</td>\n",
       "      <td> Noise - Street/Sidewalk</td>\n",
       "      <td>                 Loud Talking</td>\n",
       "      <td>     Street/Sidewalk</td>\n",
       "      <td> 11432</td>\n",
       "      <td> 90-03 169 STREET</td>\n",
       "      <td> 169 STREET</td>\n",
       "      <td>       90 AVENUE</td>\n",
       "      <td>       91 AVENUE</td>\n",
       "      <td>NaN</td>\n",
       "      <td>NaN</td>\n",
       "      <td>   ADDRESS</td>\n",
       "      <td>  JAMAICA</td>\n",
       "      <td>NaN</td>\n",
       "      <td> Precinct</td>\n",
       "      <td> Assigned</td>\n",
       "      <td> 10/31/2013 10:08:41 AM</td>\n",
       "      <td> 10/31/2013 02:35:17 AM</td>\n",
       "      <td>    12 QUEENS</td>\n",
       "      <td>    QUEENS</td>\n",
       "      <td> 1042027</td>\n",
       "      <td> 197389</td>\n",
       "      <td> Unspecified</td>\n",
       "      <td>    QUEENS</td>\n",
       "      <td> Unspecified</td>\n",
       "      <td> Unspecified</td>\n",
       "      <td> Unspecified</td>\n",
       "      <td> Unspecified</td>\n",
       "      <td> Unspecified</td>\n",
       "      <td> Unspecified</td>\n",
       "      <td> Unspecified</td>\n",
       "      <td> Unspecified</td>\n",
       "      <td> Unspecified</td>\n",
       "      <td> N</td>\n",
       "      <td>NaN</td>\n",
       "      <td>NaN</td>\n",
       "      <td>NaN</td>\n",
       "      <td>NaN</td>\n",
       "      <td>NaN</td>\n",
       "      <td>NaN</td>\n",
       "      <td>NaN</td>\n",
       "      <td>NaN</td>\n",
       "      <td>NaN</td>\n",
       "      <td>NaN</td>\n",
       "      <td>NaN</td>\n",
       "      <td> 40.708275</td>\n",
       "      <td>-73.791604</td>\n",
       "      <td>  (40.70827532593202, -73.79160395779721)</td>\n",
       "    </tr>\n",
       "    <tr>\n",
       "      <th>1</th>\n",
       "      <td> 26593698</td>\n",
       "      <td> 10/31/2013 02:01:04 AM</td>\n",
       "      <td>                    NaN</td>\n",
       "      <td> NYPD</td>\n",
       "      <td> New York City Police Department</td>\n",
       "      <td>         Illegal Parking</td>\n",
       "      <td> Commercial Overnight Parking</td>\n",
       "      <td>     Street/Sidewalk</td>\n",
       "      <td> 11378</td>\n",
       "      <td>        58 AVENUE</td>\n",
       "      <td>  58 AVENUE</td>\n",
       "      <td>        58 PLACE</td>\n",
       "      <td>       59 STREET</td>\n",
       "      <td>NaN</td>\n",
       "      <td>NaN</td>\n",
       "      <td> BLOCKFACE</td>\n",
       "      <td>  MASPETH</td>\n",
       "      <td>NaN</td>\n",
       "      <td> Precinct</td>\n",
       "      <td>     Open</td>\n",
       "      <td> 10/31/2013 10:01:04 AM</td>\n",
       "      <td>                    NaN</td>\n",
       "      <td>    05 QUEENS</td>\n",
       "      <td>    QUEENS</td>\n",
       "      <td> 1009349</td>\n",
       "      <td> 201984</td>\n",
       "      <td> Unspecified</td>\n",
       "      <td>    QUEENS</td>\n",
       "      <td> Unspecified</td>\n",
       "      <td> Unspecified</td>\n",
       "      <td> Unspecified</td>\n",
       "      <td> Unspecified</td>\n",
       "      <td> Unspecified</td>\n",
       "      <td> Unspecified</td>\n",
       "      <td> Unspecified</td>\n",
       "      <td> Unspecified</td>\n",
       "      <td> Unspecified</td>\n",
       "      <td> N</td>\n",
       "      <td>NaN</td>\n",
       "      <td>NaN</td>\n",
       "      <td>NaN</td>\n",
       "      <td>NaN</td>\n",
       "      <td>NaN</td>\n",
       "      <td>NaN</td>\n",
       "      <td>NaN</td>\n",
       "      <td>NaN</td>\n",
       "      <td>NaN</td>\n",
       "      <td>NaN</td>\n",
       "      <td>NaN</td>\n",
       "      <td> 40.721041</td>\n",
       "      <td>-73.909453</td>\n",
       "      <td> (40.721040535628305, -73.90945306791765)</td>\n",
       "    </tr>\n",
       "    <tr>\n",
       "      <th>2</th>\n",
       "      <td> 26594139</td>\n",
       "      <td> 10/31/2013 02:00:24 AM</td>\n",
       "      <td> 10/31/2013 02:40:32 AM</td>\n",
       "      <td> NYPD</td>\n",
       "      <td> New York City Police Department</td>\n",
       "      <td>      Noise - Commercial</td>\n",
       "      <td>             Loud Music/Party</td>\n",
       "      <td> Club/Bar/Restaurant</td>\n",
       "      <td> 10032</td>\n",
       "      <td>    4060 BROADWAY</td>\n",
       "      <td>   BROADWAY</td>\n",
       "      <td> WEST 171 STREET</td>\n",
       "      <td> WEST 172 STREET</td>\n",
       "      <td>NaN</td>\n",
       "      <td>NaN</td>\n",
       "      <td>   ADDRESS</td>\n",
       "      <td> NEW YORK</td>\n",
       "      <td>NaN</td>\n",
       "      <td> Precinct</td>\n",
       "      <td>   Closed</td>\n",
       "      <td> 10/31/2013 10:00:24 AM</td>\n",
       "      <td> 10/31/2013 02:39:42 AM</td>\n",
       "      <td> 12 MANHATTAN</td>\n",
       "      <td> MANHATTAN</td>\n",
       "      <td> 1001088</td>\n",
       "      <td> 246531</td>\n",
       "      <td> Unspecified</td>\n",
       "      <td> MANHATTAN</td>\n",
       "      <td> Unspecified</td>\n",
       "      <td> Unspecified</td>\n",
       "      <td> Unspecified</td>\n",
       "      <td> Unspecified</td>\n",
       "      <td> Unspecified</td>\n",
       "      <td> Unspecified</td>\n",
       "      <td> Unspecified</td>\n",
       "      <td> Unspecified</td>\n",
       "      <td> Unspecified</td>\n",
       "      <td> N</td>\n",
       "      <td>NaN</td>\n",
       "      <td>NaN</td>\n",
       "      <td>NaN</td>\n",
       "      <td>NaN</td>\n",
       "      <td>NaN</td>\n",
       "      <td>NaN</td>\n",
       "      <td>NaN</td>\n",
       "      <td>NaN</td>\n",
       "      <td>NaN</td>\n",
       "      <td>NaN</td>\n",
       "      <td>NaN</td>\n",
       "      <td> 40.843330</td>\n",
       "      <td>-73.939144</td>\n",
       "      <td>  (40.84332975466513, -73.93914371913482)</td>\n",
       "    </tr>\n",
       "  </tbody>\n",
       "</table>\n",
       "</div>"
      ],
      "text/plain": [
       "   Unique Key            Created Date             Closed Date Agency                      Agency Name           Complaint Type                    Descriptor        Location Type  Incident Zip  Incident Address Street Name   Cross Street 1   Cross Street 2  Intersection Street 1  Intersection Street 2 Address Type      City  Landmark Facility Type    Status                Due Date Resolution Action Updated Date Community Board    Borough  X Coordinate (State Plane)  Y Coordinate (State Plane) Park Facility Name Park Borough  School Name School Number School Region  School Code School Phone Number School Address  School City School State   School Zip School Not Found  School or Citywide Complaint  Vehicle Type  Taxi Company Borough  Taxi Pick Up Location  Bridge Highway Name  Bridge Highway Direction  Road Ramp  Bridge Highway Segment  Garage Lot Name  Ferry Direction  Ferry Terminal Name   Latitude  Longitude                                  Location\n",
       "0    26589651  10/31/2013 02:08:41 AM                     NaN   NYPD  New York City Police Department  Noise - Street/Sidewalk                  Loud Talking      Street/Sidewalk         11432  90-03 169 STREET  169 STREET        90 AVENUE        91 AVENUE                    NaN                    NaN      ADDRESS   JAMAICA       NaN      Precinct  Assigned  10/31/2013 10:08:41 AM         10/31/2013 02:35:17 AM       12 QUEENS     QUEENS                     1042027                      197389        Unspecified       QUEENS  Unspecified   Unspecified   Unspecified  Unspecified         Unspecified    Unspecified  Unspecified  Unspecified  Unspecified                N                           NaN           NaN                   NaN                    NaN                  NaN                       NaN        NaN                     NaN              NaN              NaN                  NaN  40.708275 -73.791604   (40.70827532593202, -73.79160395779721)\n",
       "1    26593698  10/31/2013 02:01:04 AM                     NaN   NYPD  New York City Police Department          Illegal Parking  Commercial Overnight Parking      Street/Sidewalk         11378         58 AVENUE   58 AVENUE         58 PLACE        59 STREET                    NaN                    NaN    BLOCKFACE   MASPETH       NaN      Precinct      Open  10/31/2013 10:01:04 AM                            NaN       05 QUEENS     QUEENS                     1009349                      201984        Unspecified       QUEENS  Unspecified   Unspecified   Unspecified  Unspecified         Unspecified    Unspecified  Unspecified  Unspecified  Unspecified                N                           NaN           NaN                   NaN                    NaN                  NaN                       NaN        NaN                     NaN              NaN              NaN                  NaN  40.721041 -73.909453  (40.721040535628305, -73.90945306791765)\n",
       "2    26594139  10/31/2013 02:00:24 AM  10/31/2013 02:40:32 AM   NYPD  New York City Police Department       Noise - Commercial              Loud Music/Party  Club/Bar/Restaurant         10032     4060 BROADWAY    BROADWAY  WEST 171 STREET  WEST 172 STREET                    NaN                    NaN      ADDRESS  NEW YORK       NaN      Precinct    Closed  10/31/2013 10:00:24 AM         10/31/2013 02:39:42 AM    12 MANHATTAN  MANHATTAN                     1001088                      246531        Unspecified    MANHATTAN  Unspecified   Unspecified   Unspecified  Unspecified         Unspecified    Unspecified  Unspecified  Unspecified  Unspecified                N                           NaN           NaN                   NaN                    NaN                  NaN                       NaN        NaN                     NaN              NaN              NaN                  NaN  40.843330 -73.939144   (40.84332975466513, -73.93914371913482)"
      ]
     },
     "execution_count": 26,
     "metadata": {},
     "output_type": "execute_result"
    }
   ],
   "source": [
    "# How to get 3 rows\n",
    "small_requests[:3]"
   ]
  },
  {
   "cell_type": "markdown",
   "metadata": {
    "slideshow": {
     "slide_type": "slide"
    }
   },
   "source": [
    "# Get the first 3 rows of a column"
   ]
  },
  {
   "cell_type": "code",
   "execution_count": 68,
   "metadata": {
    "collapsed": false,
    "slideshow": {
     "slide_type": "fragment"
    }
   },
   "outputs": [
    {
     "data": {
      "text/plain": [
       "0    New York City Police Department\n",
       "1    New York City Police Department\n",
       "2    New York City Police Department\n",
       "Name: Agency Name, dtype: object"
      ]
     },
     "execution_count": 68,
     "metadata": {},
     "output_type": "execute_result"
    }
   ],
   "source": [
    "small_requests['Agency Name'][:3]"
   ]
  },
  {
   "cell_type": "code",
   "execution_count": 28,
   "metadata": {
    "collapsed": false,
    "slideshow": {
     "slide_type": "fragment"
    }
   },
   "outputs": [
    {
     "data": {
      "text/plain": [
       "0    New York City Police Department\n",
       "1    New York City Police Department\n",
       "2    New York City Police Department\n",
       "Name: Agency Name, dtype: object"
      ]
     },
     "execution_count": 28,
     "metadata": {},
     "output_type": "execute_result"
    }
   ],
   "source": [
    "small_requests[:3]['Agency Name']"
   ]
  },
  {
   "cell_type": "markdown",
   "metadata": {
    "slideshow": {
     "slide_type": "slide"
    }
   },
   "source": [
    "# Compare a column to a value"
   ]
  },
  {
   "cell_type": "code",
   "execution_count": 69,
   "metadata": {
    "collapsed": false,
    "slideshow": {
     "slide_type": "fragment"
    }
   },
   "outputs": [
    {
     "data": {
      "text/plain": [
       "Rodent                     1\n",
       "Noise - Street/Sidewalk    1\n",
       "Noise - Vehicle            1\n",
       "Noise - Commercial         1\n",
       "Illegal Parking            1\n",
       "dtype: int64"
      ]
     },
     "execution_count": 69,
     "metadata": {},
     "output_type": "execute_result"
    }
   ],
   "source": [
    "small_requests['Complaint Type'].value_counts()"
   ]
  },
  {
   "cell_type": "code",
   "execution_count": 42,
   "metadata": {
    "collapsed": false,
    "slideshow": {
     "slide_type": "fragment"
    }
   },
   "outputs": [
    {
     "data": {
      "text/plain": [
       "0     True\n",
       "1    False\n",
       "2    False\n",
       "3    False\n",
       "4    False\n",
       "Name: Complaint Type, dtype: bool"
      ]
     },
     "execution_count": 42,
     "metadata": {},
     "output_type": "execute_result"
    }
   ],
   "source": [
    "# find just the 'Noise - Street/Sidewalk'\n",
    "small_requests['Complaint Type'] == 'Noise - Street/Sidewalk'"
   ]
  },
  {
   "cell_type": "markdown",
   "metadata": {
    "slideshow": {
     "slide_type": "skip"
    }
   },
   "source": [
    "That's numpy in action! Using `==` on a column of a dataframe gives us a series of `True` and `False` values"
   ]
  },
  {
   "cell_type": "markdown",
   "metadata": {
    "slideshow": {
     "slide_type": "slide"
    }
   },
   "source": [
    "# Selecting only the rows with noise complaints"
   ]
  },
  {
   "cell_type": "code",
   "execution_count": 31,
   "metadata": {
    "collapsed": false,
    "slideshow": {
     "slide_type": "fragment"
    }
   },
   "outputs": [
    {
     "data": {
      "text/html": [
       "<div style=\"max-height:1000px;max-width:1500px;overflow:auto;\">\n",
       "<table border=\"1\" class=\"dataframe\">\n",
       "  <thead>\n",
       "    <tr style=\"text-align: right;\">\n",
       "      <th></th>\n",
       "      <th>Unique Key</th>\n",
       "      <th>Created Date</th>\n",
       "      <th>Closed Date</th>\n",
       "      <th>Agency</th>\n",
       "      <th>Agency Name</th>\n",
       "      <th>Complaint Type</th>\n",
       "      <th>Descriptor</th>\n",
       "      <th>Location Type</th>\n",
       "      <th>Incident Zip</th>\n",
       "      <th>Incident Address</th>\n",
       "      <th>Street Name</th>\n",
       "      <th>Cross Street 1</th>\n",
       "      <th>Cross Street 2</th>\n",
       "      <th>Intersection Street 1</th>\n",
       "      <th>Intersection Street 2</th>\n",
       "      <th>Address Type</th>\n",
       "      <th>City</th>\n",
       "      <th>Landmark</th>\n",
       "      <th>Facility Type</th>\n",
       "      <th>Status</th>\n",
       "      <th>Due Date</th>\n",
       "      <th>Resolution Action Updated Date</th>\n",
       "      <th>Community Board</th>\n",
       "      <th>Borough</th>\n",
       "      <th>X Coordinate (State Plane)</th>\n",
       "      <th>Y Coordinate (State Plane)</th>\n",
       "      <th>Park Facility Name</th>\n",
       "      <th>Park Borough</th>\n",
       "      <th>School Name</th>\n",
       "      <th>School Number</th>\n",
       "      <th>School Region</th>\n",
       "      <th>School Code</th>\n",
       "      <th>School Phone Number</th>\n",
       "      <th>School Address</th>\n",
       "      <th>School City</th>\n",
       "      <th>School State</th>\n",
       "      <th>School Zip</th>\n",
       "      <th>School Not Found</th>\n",
       "      <th>School or Citywide Complaint</th>\n",
       "      <th>Vehicle Type</th>\n",
       "      <th>Taxi Company Borough</th>\n",
       "      <th>Taxi Pick Up Location</th>\n",
       "      <th>Bridge Highway Name</th>\n",
       "      <th>Bridge Highway Direction</th>\n",
       "      <th>Road Ramp</th>\n",
       "      <th>Bridge Highway Segment</th>\n",
       "      <th>Garage Lot Name</th>\n",
       "      <th>Ferry Direction</th>\n",
       "      <th>Ferry Terminal Name</th>\n",
       "      <th>Latitude</th>\n",
       "      <th>Longitude</th>\n",
       "      <th>Location</th>\n",
       "    </tr>\n",
       "  </thead>\n",
       "  <tbody>\n",
       "    <tr>\n",
       "      <th>0</th>\n",
       "      <td> 26589651</td>\n",
       "      <td> 10/31/2013 02:08:41 AM</td>\n",
       "      <td> NaN</td>\n",
       "      <td> NYPD</td>\n",
       "      <td> New York City Police Department</td>\n",
       "      <td> Noise - Street/Sidewalk</td>\n",
       "      <td> Loud Talking</td>\n",
       "      <td> Street/Sidewalk</td>\n",
       "      <td> 11432</td>\n",
       "      <td> 90-03 169 STREET</td>\n",
       "      <td> 169 STREET</td>\n",
       "      <td> 90 AVENUE</td>\n",
       "      <td> 91 AVENUE</td>\n",
       "      <td>NaN</td>\n",
       "      <td>NaN</td>\n",
       "      <td> ADDRESS</td>\n",
       "      <td> JAMAICA</td>\n",
       "      <td>NaN</td>\n",
       "      <td> Precinct</td>\n",
       "      <td> Assigned</td>\n",
       "      <td> 10/31/2013 10:08:41 AM</td>\n",
       "      <td> 10/31/2013 02:35:17 AM</td>\n",
       "      <td> 12 QUEENS</td>\n",
       "      <td> QUEENS</td>\n",
       "      <td> 1042027</td>\n",
       "      <td> 197389</td>\n",
       "      <td> Unspecified</td>\n",
       "      <td> QUEENS</td>\n",
       "      <td> Unspecified</td>\n",
       "      <td> Unspecified</td>\n",
       "      <td> Unspecified</td>\n",
       "      <td> Unspecified</td>\n",
       "      <td> Unspecified</td>\n",
       "      <td> Unspecified</td>\n",
       "      <td> Unspecified</td>\n",
       "      <td> Unspecified</td>\n",
       "      <td> Unspecified</td>\n",
       "      <td> N</td>\n",
       "      <td>NaN</td>\n",
       "      <td>NaN</td>\n",
       "      <td>NaN</td>\n",
       "      <td>NaN</td>\n",
       "      <td>NaN</td>\n",
       "      <td>NaN</td>\n",
       "      <td>NaN</td>\n",
       "      <td>NaN</td>\n",
       "      <td>NaN</td>\n",
       "      <td>NaN</td>\n",
       "      <td>NaN</td>\n",
       "      <td> 40.708275</td>\n",
       "      <td>-73.791604</td>\n",
       "      <td> (40.70827532593202, -73.79160395779721)</td>\n",
       "    </tr>\n",
       "  </tbody>\n",
       "</table>\n",
       "</div>"
      ],
      "text/plain": [
       "   Unique Key            Created Date Closed Date Agency                      Agency Name           Complaint Type    Descriptor    Location Type  Incident Zip  Incident Address Street Name Cross Street 1 Cross Street 2  Intersection Street 1  Intersection Street 2 Address Type     City  Landmark Facility Type    Status                Due Date Resolution Action Updated Date Community Board Borough  X Coordinate (State Plane)  Y Coordinate (State Plane) Park Facility Name Park Borough  School Name School Number School Region  School Code School Phone Number School Address  School City School State   School Zip School Not Found  School or Citywide Complaint  Vehicle Type  Taxi Company Borough  Taxi Pick Up Location  Bridge Highway Name  Bridge Highway Direction  Road Ramp  Bridge Highway Segment  Garage Lot Name  Ferry Direction  Ferry Terminal Name   Latitude  Longitude                                 Location\n",
       "0    26589651  10/31/2013 02:08:41 AM         NaN   NYPD  New York City Police Department  Noise - Street/Sidewalk  Loud Talking  Street/Sidewalk         11432  90-03 169 STREET  169 STREET      90 AVENUE      91 AVENUE                    NaN                    NaN      ADDRESS  JAMAICA       NaN      Precinct  Assigned  10/31/2013 10:08:41 AM         10/31/2013 02:35:17 AM       12 QUEENS  QUEENS                     1042027                      197389        Unspecified       QUEENS  Unspecified   Unspecified   Unspecified  Unspecified         Unspecified    Unspecified  Unspecified  Unspecified  Unspecified                N                           NaN           NaN                   NaN                    NaN                  NaN                       NaN        NaN                     NaN              NaN              NaN                  NaN  40.708275 -73.791604  (40.70827532593202, -73.79160395779721)"
      ]
     },
     "execution_count": 31,
     "metadata": {},
     "output_type": "execute_result"
    }
   ],
   "source": [
    "#show the rows with noise complaints\n",
    "noise_complaints = small_requests[small_requests['Complaint Type'] == 'Noise - Street/Sidewalk']\n",
    "noise_complaints"
   ]
  },
  {
   "cell_type": "markdown",
   "metadata": {},
   "source": [
    "Any Dataframe has an *index*, which is a integer or date or something else associated to each row."
   ]
  },
  {
   "cell_type": "code",
   "execution_count": 32,
   "metadata": {
    "collapsed": false
   },
   "outputs": [
    {
     "data": {
      "text/plain": [
       "Unique Key                                                       26589651\n",
       "Created Date                                       10/31/2013 02:08:41 AM\n",
       "Closed Date                                                           NaN\n",
       "Agency                                                               NYPD\n",
       "Agency Name                               New York City Police Department\n",
       "Complaint Type                                    Noise - Street/Sidewalk\n",
       "Descriptor                                                   Loud Talking\n",
       "Location Type                                             Street/Sidewalk\n",
       "Incident Zip                                                        11432\n",
       "Incident Address                                         90-03 169 STREET\n",
       "Street Name                                                    169 STREET\n",
       "Cross Street 1                                                  90 AVENUE\n",
       "Cross Street 2                                                  91 AVENUE\n",
       "Intersection Street 1                                                 NaN\n",
       "Intersection Street 2                                                 NaN\n",
       "Address Type                                                      ADDRESS\n",
       "City                                                              JAMAICA\n",
       "Landmark                                                              NaN\n",
       "Facility Type                                                    Precinct\n",
       "Status                                                           Assigned\n",
       "Due Date                                           10/31/2013 10:08:41 AM\n",
       "Resolution Action Updated Date                     10/31/2013 02:35:17 AM\n",
       "Community Board                                                 12 QUEENS\n",
       "Borough                                                            QUEENS\n",
       "X Coordinate (State Plane)                                        1042027\n",
       "Y Coordinate (State Plane)                                         197389\n",
       "Park Facility Name                                            Unspecified\n",
       "Park Borough                                                       QUEENS\n",
       "School Name                                                   Unspecified\n",
       "School Number                                                 Unspecified\n",
       "School Region                                                 Unspecified\n",
       "School Code                                                   Unspecified\n",
       "School Phone Number                                           Unspecified\n",
       "School Address                                                Unspecified\n",
       "School City                                                   Unspecified\n",
       "School State                                                  Unspecified\n",
       "School Zip                                                    Unspecified\n",
       "School Not Found                                                        N\n",
       "School or Citywide Complaint                                          NaN\n",
       "Vehicle Type                                                          NaN\n",
       "Taxi Company Borough                                                  NaN\n",
       "Taxi Pick Up Location                                                 NaN\n",
       "Bridge Highway Name                                                   NaN\n",
       "Bridge Highway Direction                                              NaN\n",
       "Road Ramp                                                             NaN\n",
       "Bridge Highway Segment                                                NaN\n",
       "Garage Lot Name                                                       NaN\n",
       "Ferry Direction                                                       NaN\n",
       "Ferry Terminal Name                                                   NaN\n",
       "Latitude                                                         40.70828\n",
       "Longitude                                                        -73.7916\n",
       "Location                          (40.70827532593202, -73.79160395779721)\n",
       "Name: 0, Length: 52, dtype: object"
      ]
     },
     "execution_count": 32,
     "metadata": {},
     "output_type": "execute_result"
    }
   ],
   "source": [
    "# How to get a specific row\n",
    "small_requests.ix[0]"
   ]
  },
  {
   "cell_type": "code",
   "execution_count": 33,
   "metadata": {
    "collapsed": false
   },
   "outputs": [
    {
     "ename": "KeyError",
     "evalue": "u'no item named 0'",
     "output_type": "error",
     "traceback": [
      "\u001b[1;31m---------------------------------------------------------------------------\u001b[0m\n\u001b[1;31mKeyError\u001b[0m                                  Traceback (most recent call last)",
      "\u001b[1;32m<ipython-input-33-cb28920bbdf9>\u001b[0m in \u001b[0;36m<module>\u001b[1;34m()\u001b[0m\n\u001b[0;32m      1\u001b[0m \u001b[1;31m# How not to get a row\u001b[0m\u001b[1;33m\u001b[0m\u001b[1;33m\u001b[0m\u001b[0m\n\u001b[1;32m----> 2\u001b[1;33m \u001b[0msmall_requests\u001b[0m\u001b[1;33m[\u001b[0m\u001b[1;36m0\u001b[0m\u001b[1;33m]\u001b[0m\u001b[1;33m\u001b[0m\u001b[0m\n\u001b[0m",
      "\u001b[1;32m/opt/anaconda/lib/python2.7/site-packages/pandas/core/frame.pyc\u001b[0m in \u001b[0;36m__getitem__\u001b[1;34m(self, key)\u001b[0m\n\u001b[0;32m   1926\u001b[0m         \u001b[1;32melse\u001b[0m\u001b[1;33m:\u001b[0m\u001b[1;33m\u001b[0m\u001b[0m\n\u001b[0;32m   1927\u001b[0m             \u001b[1;31m# get column\u001b[0m\u001b[1;33m\u001b[0m\u001b[1;33m\u001b[0m\u001b[0m\n\u001b[1;32m-> 1928\u001b[1;33m             \u001b[1;32mreturn\u001b[0m \u001b[0mself\u001b[0m\u001b[1;33m.\u001b[0m\u001b[0m_get_item_cache\u001b[0m\u001b[1;33m(\u001b[0m\u001b[0mkey\u001b[0m\u001b[1;33m)\u001b[0m\u001b[1;33m\u001b[0m\u001b[0m\n\u001b[0m\u001b[0;32m   1929\u001b[0m \u001b[1;33m\u001b[0m\u001b[0m\n\u001b[0;32m   1930\u001b[0m     \u001b[1;32mdef\u001b[0m \u001b[0m_getitem_slice\u001b[0m\u001b[1;33m(\u001b[0m\u001b[0mself\u001b[0m\u001b[1;33m,\u001b[0m \u001b[0mkey\u001b[0m\u001b[1;33m)\u001b[0m\u001b[1;33m:\u001b[0m\u001b[1;33m\u001b[0m\u001b[0m\n",
      "\u001b[1;32m/opt/anaconda/lib/python2.7/site-packages/pandas/core/generic.pyc\u001b[0m in \u001b[0;36m_get_item_cache\u001b[1;34m(self, item)\u001b[0m\n\u001b[0;32m    568\u001b[0m             \u001b[1;32mreturn\u001b[0m \u001b[0mcache\u001b[0m\u001b[1;33m[\u001b[0m\u001b[0mitem\u001b[0m\u001b[1;33m]\u001b[0m\u001b[1;33m\u001b[0m\u001b[0m\n\u001b[0;32m    569\u001b[0m         \u001b[1;32mexcept\u001b[0m \u001b[0mException\u001b[0m\u001b[1;33m:\u001b[0m\u001b[1;33m\u001b[0m\u001b[0m\n\u001b[1;32m--> 570\u001b[1;33m             \u001b[0mvalues\u001b[0m \u001b[1;33m=\u001b[0m \u001b[0mself\u001b[0m\u001b[1;33m.\u001b[0m\u001b[0m_data\u001b[0m\u001b[1;33m.\u001b[0m\u001b[0mget\u001b[0m\u001b[1;33m(\u001b[0m\u001b[0mitem\u001b[0m\u001b[1;33m)\u001b[0m\u001b[1;33m\u001b[0m\u001b[0m\n\u001b[0m\u001b[0;32m    571\u001b[0m             \u001b[0mres\u001b[0m \u001b[1;33m=\u001b[0m \u001b[0mself\u001b[0m\u001b[1;33m.\u001b[0m\u001b[0m_box_item_values\u001b[0m\u001b[1;33m(\u001b[0m\u001b[0mitem\u001b[0m\u001b[1;33m,\u001b[0m \u001b[0mvalues\u001b[0m\u001b[1;33m)\u001b[0m\u001b[1;33m\u001b[0m\u001b[0m\n\u001b[0;32m    572\u001b[0m             \u001b[0mcache\u001b[0m\u001b[1;33m[\u001b[0m\u001b[0mitem\u001b[0m\u001b[1;33m]\u001b[0m \u001b[1;33m=\u001b[0m \u001b[0mres\u001b[0m\u001b[1;33m\u001b[0m\u001b[0m\n",
      "\u001b[1;32m/opt/anaconda/lib/python2.7/site-packages/pandas/core/internals.pyc\u001b[0m in \u001b[0;36mget\u001b[1;34m(self, item)\u001b[0m\n\u001b[0;32m   1381\u001b[0m \u001b[1;33m\u001b[0m\u001b[0m\n\u001b[0;32m   1382\u001b[0m     \u001b[1;32mdef\u001b[0m \u001b[0mget\u001b[0m\u001b[1;33m(\u001b[0m\u001b[0mself\u001b[0m\u001b[1;33m,\u001b[0m \u001b[0mitem\u001b[0m\u001b[1;33m)\u001b[0m\u001b[1;33m:\u001b[0m\u001b[1;33m\u001b[0m\u001b[0m\n\u001b[1;32m-> 1383\u001b[1;33m         \u001b[0m_\u001b[0m\u001b[1;33m,\u001b[0m \u001b[0mblock\u001b[0m \u001b[1;33m=\u001b[0m \u001b[0mself\u001b[0m\u001b[1;33m.\u001b[0m\u001b[0m_find_block\u001b[0m\u001b[1;33m(\u001b[0m\u001b[0mitem\u001b[0m\u001b[1;33m)\u001b[0m\u001b[1;33m\u001b[0m\u001b[0m\n\u001b[0m\u001b[0;32m   1384\u001b[0m         \u001b[1;32mreturn\u001b[0m \u001b[0mblock\u001b[0m\u001b[1;33m.\u001b[0m\u001b[0mget\u001b[0m\u001b[1;33m(\u001b[0m\u001b[0mitem\u001b[0m\u001b[1;33m)\u001b[0m\u001b[1;33m\u001b[0m\u001b[0m\n\u001b[0;32m   1385\u001b[0m \u001b[1;33m\u001b[0m\u001b[0m\n",
      "\u001b[1;32m/opt/anaconda/lib/python2.7/site-packages/pandas/core/internals.pyc\u001b[0m in \u001b[0;36m_find_block\u001b[1;34m(self, item)\u001b[0m\n\u001b[0;32m   1523\u001b[0m \u001b[1;33m\u001b[0m\u001b[0m\n\u001b[0;32m   1524\u001b[0m     \u001b[1;32mdef\u001b[0m \u001b[0m_find_block\u001b[0m\u001b[1;33m(\u001b[0m\u001b[0mself\u001b[0m\u001b[1;33m,\u001b[0m \u001b[0mitem\u001b[0m\u001b[1;33m)\u001b[0m\u001b[1;33m:\u001b[0m\u001b[1;33m\u001b[0m\u001b[0m\n\u001b[1;32m-> 1525\u001b[1;33m         \u001b[0mself\u001b[0m\u001b[1;33m.\u001b[0m\u001b[0m_check_have\u001b[0m\u001b[1;33m(\u001b[0m\u001b[0mitem\u001b[0m\u001b[1;33m)\u001b[0m\u001b[1;33m\u001b[0m\u001b[0m\n\u001b[0m\u001b[0;32m   1526\u001b[0m         \u001b[1;32mfor\u001b[0m \u001b[0mi\u001b[0m\u001b[1;33m,\u001b[0m \u001b[0mblock\u001b[0m \u001b[1;32min\u001b[0m \u001b[0menumerate\u001b[0m\u001b[1;33m(\u001b[0m\u001b[0mself\u001b[0m\u001b[1;33m.\u001b[0m\u001b[0mblocks\u001b[0m\u001b[1;33m)\u001b[0m\u001b[1;33m:\u001b[0m\u001b[1;33m\u001b[0m\u001b[0m\n\u001b[0;32m   1527\u001b[0m             \u001b[1;32mif\u001b[0m \u001b[0mitem\u001b[0m \u001b[1;32min\u001b[0m \u001b[0mblock\u001b[0m\u001b[1;33m:\u001b[0m\u001b[1;33m\u001b[0m\u001b[0m\n",
      "\u001b[1;32m/opt/anaconda/lib/python2.7/site-packages/pandas/core/internals.pyc\u001b[0m in \u001b[0;36m_check_have\u001b[1;34m(self, item)\u001b[0m\n\u001b[0;32m   1530\u001b[0m     \u001b[1;32mdef\u001b[0m \u001b[0m_check_have\u001b[0m\u001b[1;33m(\u001b[0m\u001b[0mself\u001b[0m\u001b[1;33m,\u001b[0m \u001b[0mitem\u001b[0m\u001b[1;33m)\u001b[0m\u001b[1;33m:\u001b[0m\u001b[1;33m\u001b[0m\u001b[0m\n\u001b[0;32m   1531\u001b[0m         \u001b[1;32mif\u001b[0m \u001b[0mitem\u001b[0m \u001b[1;32mnot\u001b[0m \u001b[1;32min\u001b[0m \u001b[0mself\u001b[0m\u001b[1;33m.\u001b[0m\u001b[0mitems\u001b[0m\u001b[1;33m:\u001b[0m\u001b[1;33m\u001b[0m\u001b[0m\n\u001b[1;32m-> 1532\u001b[1;33m             \u001b[1;32mraise\u001b[0m \u001b[0mKeyError\u001b[0m\u001b[1;33m(\u001b[0m\u001b[1;34m'no item named %s'\u001b[0m \u001b[1;33m%\u001b[0m \u001b[0mcom\u001b[0m\u001b[1;33m.\u001b[0m\u001b[0mpprint_thing\u001b[0m\u001b[1;33m(\u001b[0m\u001b[0mitem\u001b[0m\u001b[1;33m)\u001b[0m\u001b[1;33m)\u001b[0m\u001b[1;33m\u001b[0m\u001b[0m\n\u001b[0m\u001b[0;32m   1533\u001b[0m \u001b[1;33m\u001b[0m\u001b[0m\n\u001b[0;32m   1534\u001b[0m     \u001b[1;32mdef\u001b[0m \u001b[0mreindex_axis\u001b[0m\u001b[1;33m(\u001b[0m\u001b[0mself\u001b[0m\u001b[1;33m,\u001b[0m \u001b[0mnew_axis\u001b[0m\u001b[1;33m,\u001b[0m \u001b[0mmethod\u001b[0m\u001b[1;33m=\u001b[0m\u001b[0mNone\u001b[0m\u001b[1;33m,\u001b[0m \u001b[0maxis\u001b[0m\u001b[1;33m=\u001b[0m\u001b[1;36m0\u001b[0m\u001b[1;33m,\u001b[0m \u001b[0mcopy\u001b[0m\u001b[1;33m=\u001b[0m\u001b[0mTrue\u001b[0m\u001b[1;33m)\u001b[0m\u001b[1;33m:\u001b[0m\u001b[1;33m\u001b[0m\u001b[0m\n",
      "\u001b[1;31mKeyError\u001b[0m: u'no item named 0'"
     ]
    }
   ],
   "source": [
    "# How not to get a row\n",
    "small_requests[0]"
   ]
  },
  {
   "cell_type": "markdown",
   "metadata": {},
   "source": [
    "# Exercise 2: Selecting things from dataframes\n",
    "Use the futurama data set\n",
    "\n",
    "* Find the mean age of planet express employees\n",
    "* Let's not count the years when Fry was frozen. Change his age to 39\n",
    "* Find the new mean\n",
    "* What's the average age of the humans?\n",
    "* The non-humans?"
   ]
  },
  {
   "cell_type": "code",
   "execution_count": 34,
   "metadata": {
    "collapsed": false
   },
   "outputs": [],
   "source": [
    "# Your code here"
   ]
  },
  {
   "cell_type": "code",
   "execution_count": 70,
   "metadata": {
    "collapsed": false
   },
   "outputs": [
    {
     "data": {
      "text/plain": [
       "205.85714285714286"
      ]
     },
     "execution_count": 70,
     "metadata": {},
     "output_type": "execute_result"
    }
   ],
   "source": [
    "futurama[\"Age\"].mean()"
   ]
  },
  {
   "cell_type": "code",
   "execution_count": 71,
   "metadata": {
    "collapsed": false
   },
   "outputs": [
    {
     "data": {
      "text/html": [
       "<div>\n",
       "<table border=\"1\" class=\"dataframe\">\n",
       "  <thead>\n",
       "    <tr style=\"text-align: right;\">\n",
       "      <th></th>\n",
       "      <th>Name</th>\n",
       "      <th>Company</th>\n",
       "      <th>Species</th>\n",
       "      <th>Profession</th>\n",
       "      <th>Age</th>\n",
       "    </tr>\n",
       "  </thead>\n",
       "  <tbody>\n",
       "    <tr>\n",
       "      <th>0</th>\n",
       "      <td>Fry</td>\n",
       "      <td>Planet Express</td>\n",
       "      <td>human</td>\n",
       "      <td>delivery</td>\n",
       "      <td>1039</td>\n",
       "    </tr>\n",
       "  </tbody>\n",
       "</table>\n",
       "</div>"
      ],
      "text/plain": [
       "  Name         Company Species Profession   Age\n",
       "0  Fry  Planet Express   human   delivery  1039"
      ]
     },
     "execution_count": 71,
     "metadata": {},
     "output_type": "execute_result"
    }
   ],
   "source": [
    "futurama[futurama['Age'] == 1039] "
   ]
  },
  {
   "cell_type": "code",
   "execution_count": 90,
   "metadata": {
    "collapsed": false
   },
   "outputs": [],
   "source": [
    "# a quick and dirty replace\n",
    "futurama = futurama.replace(1039, 39)"
   ]
  },
  {
   "cell_type": "code",
   "execution_count": 91,
   "metadata": {
    "collapsed": false
   },
   "outputs": [
    {
     "data": {
      "text/plain": [
       "0     39\n",
       "1     37\n",
       "2     86\n",
       "3     17\n",
       "4     35\n",
       "5     54\n",
       "6    173\n",
       "Name: Age, dtype: int64"
      ]
     },
     "execution_count": 91,
     "metadata": {},
     "output_type": "execute_result"
    }
   ],
   "source": [
    "futurama['Age']"
   ]
  },
  {
   "cell_type": "code",
   "execution_count": 92,
   "metadata": {
    "collapsed": false
   },
   "outputs": [
    {
     "data": {
      "text/plain": [
       "63.0"
      ]
     },
     "execution_count": 92,
     "metadata": {},
     "output_type": "execute_result"
    }
   ],
   "source": [
    "futurama[\"Age\"].mean()"
   ]
  },
  {
   "cell_type": "code",
   "execution_count": 93,
   "metadata": {
    "collapsed": false
   },
   "outputs": [
    {
     "data": {
      "text/html": [
       "<div>\n",
       "<table border=\"1\" class=\"dataframe\">\n",
       "  <thead>\n",
       "    <tr style=\"text-align: right;\">\n",
       "      <th></th>\n",
       "      <th>Name</th>\n",
       "      <th>Company</th>\n",
       "      <th>Species</th>\n",
       "      <th>Profession</th>\n",
       "      <th>Age</th>\n",
       "    </tr>\n",
       "  </thead>\n",
       "  <tbody>\n",
       "    <tr>\n",
       "      <th>0</th>\n",
       "      <td>Fry</td>\n",
       "      <td>Planet Express</td>\n",
       "      <td>human</td>\n",
       "      <td>delivery</td>\n",
       "      <td>39</td>\n",
       "    </tr>\n",
       "    <tr>\n",
       "      <th>4</th>\n",
       "      <td>Amy</td>\n",
       "      <td>Planet Express</td>\n",
       "      <td>human</td>\n",
       "      <td>intern</td>\n",
       "      <td>35</td>\n",
       "    </tr>\n",
       "    <tr>\n",
       "      <th>5</th>\n",
       "      <td>Hermes</td>\n",
       "      <td>Planet Express</td>\n",
       "      <td>human</td>\n",
       "      <td>accountant</td>\n",
       "      <td>54</td>\n",
       "    </tr>\n",
       "    <tr>\n",
       "      <th>6</th>\n",
       "      <td>Professor</td>\n",
       "      <td>Planet Express</td>\n",
       "      <td>human</td>\n",
       "      <td>scientist</td>\n",
       "      <td>173</td>\n",
       "    </tr>\n",
       "  </tbody>\n",
       "</table>\n",
       "</div>"
      ],
      "text/plain": [
       "        Name         Company Species  Profession  Age\n",
       "0        Fry  Planet Express   human    delivery   39\n",
       "4        Amy  Planet Express   human      intern   35\n",
       "5     Hermes  Planet Express   human  accountant   54\n",
       "6  Professor  Planet Express   human   scientist  173"
      ]
     },
     "execution_count": 93,
     "metadata": {},
     "output_type": "execute_result"
    }
   ],
   "source": [
    "humans =futurama[futurama[\"Species\"] == 'human']\n",
    "humans"
   ]
  },
  {
   "cell_type": "code",
   "execution_count": 94,
   "metadata": {
    "collapsed": false
   },
   "outputs": [
    {
     "data": {
      "text/plain": [
       "75.25"
      ]
     },
     "execution_count": 94,
     "metadata": {},
     "output_type": "execute_result"
    }
   ],
   "source": [
    "humans[\"Age\"].mean()"
   ]
  },
  {
   "cell_type": "code",
   "execution_count": 95,
   "metadata": {
    "collapsed": false
   },
   "outputs": [
    {
     "data": {
      "text/html": [
       "<div>\n",
       "<table border=\"1\" class=\"dataframe\">\n",
       "  <thead>\n",
       "    <tr style=\"text-align: right;\">\n",
       "      <th></th>\n",
       "      <th>Name</th>\n",
       "      <th>Company</th>\n",
       "      <th>Species</th>\n",
       "      <th>Profession</th>\n",
       "      <th>Age</th>\n",
       "    </tr>\n",
       "  </thead>\n",
       "  <tbody>\n",
       "    <tr>\n",
       "      <th>1</th>\n",
       "      <td>Leela</td>\n",
       "      <td>Plant Express</td>\n",
       "      <td>mutant</td>\n",
       "      <td>captain</td>\n",
       "      <td>37</td>\n",
       "    </tr>\n",
       "    <tr>\n",
       "      <th>2</th>\n",
       "      <td>Zoidberg</td>\n",
       "      <td>Planet Express</td>\n",
       "      <td>decapodian</td>\n",
       "      <td>doctor</td>\n",
       "      <td>86</td>\n",
       "    </tr>\n",
       "    <tr>\n",
       "      <th>3</th>\n",
       "      <td>Bender</td>\n",
       "      <td>Planet Express</td>\n",
       "      <td>robot</td>\n",
       "      <td>bender</td>\n",
       "      <td>17</td>\n",
       "    </tr>\n",
       "  </tbody>\n",
       "</table>\n",
       "</div>"
      ],
      "text/plain": [
       "       Name         Company     Species Profession  Age\n",
       "1     Leela   Plant Express      mutant    captain   37\n",
       "2  Zoidberg  Planet Express  decapodian     doctor   86\n",
       "3    Bender  Planet Express       robot     bender   17"
      ]
     },
     "execution_count": 95,
     "metadata": {},
     "output_type": "execute_result"
    }
   ],
   "source": [
    "nothumans =futurama[futurama[\"Species\"] != 'human']\n",
    "nothumans"
   ]
  },
  {
   "cell_type": "markdown",
   "metadata": {},
   "source": [
    "# Back to the full example"
   ]
  },
  {
   "cell_type": "code",
   "execution_count": 49,
   "metadata": {
    "collapsed": false
   },
   "outputs": [],
   "source": [
    "#Let's use the full dataset now\n",
    "orig_data = pd.read_csv('./311-service-requests.csv', nrows=100000, parse_dates=['Created Date'])"
   ]
  },
  {
   "cell_type": "code",
   "execution_count": 50,
   "metadata": {
    "collapsed": true
   },
   "outputs": [],
   "source": [
    "noise_complaints = orig_data[orig_data[\"Complaint Type\"] == \"Noise - Street/Sidewalk\"]"
   ]
  },
  {
   "cell_type": "code",
   "execution_count": 51,
   "metadata": {
    "collapsed": false,
    "slideshow": {
     "slide_type": "fragment"
    }
   },
   "outputs": [
    {
     "data": {
      "text/html": [
       "<div>\n",
       "<table border=\"1\" class=\"dataframe\">\n",
       "  <thead>\n",
       "    <tr style=\"text-align: right;\">\n",
       "      <th></th>\n",
       "      <th>Unique Key</th>\n",
       "      <th>Created Date</th>\n",
       "      <th>Closed Date</th>\n",
       "      <th>Agency</th>\n",
       "      <th>Agency Name</th>\n",
       "      <th>Complaint Type</th>\n",
       "      <th>Descriptor</th>\n",
       "      <th>Location Type</th>\n",
       "      <th>Incident Zip</th>\n",
       "      <th>Incident Address</th>\n",
       "      <th>...</th>\n",
       "      <th>Bridge Highway Name</th>\n",
       "      <th>Bridge Highway Direction</th>\n",
       "      <th>Road Ramp</th>\n",
       "      <th>Bridge Highway Segment</th>\n",
       "      <th>Garage Lot Name</th>\n",
       "      <th>Ferry Direction</th>\n",
       "      <th>Ferry Terminal Name</th>\n",
       "      <th>Latitude</th>\n",
       "      <th>Longitude</th>\n",
       "      <th>Location</th>\n",
       "    </tr>\n",
       "  </thead>\n",
       "  <tbody>\n",
       "    <tr>\n",
       "      <th>0</th>\n",
       "      <td>26589651</td>\n",
       "      <td>2013-10-31 02:08:41</td>\n",
       "      <td>NaN</td>\n",
       "      <td>NYPD</td>\n",
       "      <td>New York City Police Department</td>\n",
       "      <td>Noise - Street/Sidewalk</td>\n",
       "      <td>Loud Talking</td>\n",
       "      <td>Street/Sidewalk</td>\n",
       "      <td>11432</td>\n",
       "      <td>90-03 169 STREET</td>\n",
       "      <td>...</td>\n",
       "      <td>NaN</td>\n",
       "      <td>NaN</td>\n",
       "      <td>NaN</td>\n",
       "      <td>NaN</td>\n",
       "      <td>NaN</td>\n",
       "      <td>NaN</td>\n",
       "      <td>NaN</td>\n",
       "      <td>40.708275</td>\n",
       "      <td>-73.791604</td>\n",
       "      <td>(40.70827532593202, -73.79160395779721)</td>\n",
       "    </tr>\n",
       "    <tr>\n",
       "      <th>16</th>\n",
       "      <td>26594086</td>\n",
       "      <td>2013-10-31 00:54:03</td>\n",
       "      <td>10/31/2013 02:16:39 AM</td>\n",
       "      <td>NYPD</td>\n",
       "      <td>New York City Police Department</td>\n",
       "      <td>Noise - Street/Sidewalk</td>\n",
       "      <td>Loud Music/Party</td>\n",
       "      <td>Street/Sidewalk</td>\n",
       "      <td>10310</td>\n",
       "      <td>173 CAMPBELL AVENUE</td>\n",
       "      <td>...</td>\n",
       "      <td>NaN</td>\n",
       "      <td>NaN</td>\n",
       "      <td>NaN</td>\n",
       "      <td>NaN</td>\n",
       "      <td>NaN</td>\n",
       "      <td>NaN</td>\n",
       "      <td>NaN</td>\n",
       "      <td>40.636182</td>\n",
       "      <td>-74.116150</td>\n",
       "      <td>(40.63618202176914, -74.1161500428337)</td>\n",
       "    </tr>\n",
       "    <tr>\n",
       "      <th>25</th>\n",
       "      <td>26591573</td>\n",
       "      <td>2013-10-31 00:35:18</td>\n",
       "      <td>10/31/2013 02:41:35 AM</td>\n",
       "      <td>NYPD</td>\n",
       "      <td>New York City Police Department</td>\n",
       "      <td>Noise - Street/Sidewalk</td>\n",
       "      <td>Loud Talking</td>\n",
       "      <td>Street/Sidewalk</td>\n",
       "      <td>10312</td>\n",
       "      <td>24 PRINCETON LANE</td>\n",
       "      <td>...</td>\n",
       "      <td>NaN</td>\n",
       "      <td>NaN</td>\n",
       "      <td>NaN</td>\n",
       "      <td>NaN</td>\n",
       "      <td>NaN</td>\n",
       "      <td>NaN</td>\n",
       "      <td>NaN</td>\n",
       "      <td>40.553421</td>\n",
       "      <td>-74.196743</td>\n",
       "      <td>(40.55342078716953, -74.19674315017886)</td>\n",
       "    </tr>\n",
       "  </tbody>\n",
       "</table>\n",
       "<p>3 rows × 52 columns</p>\n",
       "</div>"
      ],
      "text/plain": [
       "    Unique Key        Created Date             Closed Date Agency  \\\n",
       "0     26589651 2013-10-31 02:08:41                     NaN   NYPD   \n",
       "16    26594086 2013-10-31 00:54:03  10/31/2013 02:16:39 AM   NYPD   \n",
       "25    26591573 2013-10-31 00:35:18  10/31/2013 02:41:35 AM   NYPD   \n",
       "\n",
       "                        Agency Name           Complaint Type  \\\n",
       "0   New York City Police Department  Noise - Street/Sidewalk   \n",
       "16  New York City Police Department  Noise - Street/Sidewalk   \n",
       "25  New York City Police Department  Noise - Street/Sidewalk   \n",
       "\n",
       "          Descriptor    Location Type Incident Zip     Incident Address  \\\n",
       "0       Loud Talking  Street/Sidewalk        11432     90-03 169 STREET   \n",
       "16  Loud Music/Party  Street/Sidewalk        10310  173 CAMPBELL AVENUE   \n",
       "25      Loud Talking  Street/Sidewalk        10312    24 PRINCETON LANE   \n",
       "\n",
       "                     ...                    Bridge Highway Name  \\\n",
       "0                    ...                                    NaN   \n",
       "16                   ...                                    NaN   \n",
       "25                   ...                                    NaN   \n",
       "\n",
       "   Bridge Highway Direction Road Ramp Bridge Highway Segment Garage Lot Name  \\\n",
       "0                       NaN       NaN                    NaN             NaN   \n",
       "16                      NaN       NaN                    NaN             NaN   \n",
       "25                      NaN       NaN                    NaN             NaN   \n",
       "\n",
       "   Ferry Direction Ferry Terminal Name   Latitude  Longitude  \\\n",
       "0              NaN                 NaN  40.708275 -73.791604   \n",
       "16             NaN                 NaN  40.636182 -74.116150   \n",
       "25             NaN                 NaN  40.553421 -74.196743   \n",
       "\n",
       "                                   Location  \n",
       "0   (40.70827532593202, -73.79160395779721)  \n",
       "16   (40.63618202176914, -74.1161500428337)  \n",
       "25  (40.55342078716953, -74.19674315017886)  \n",
       "\n",
       "[3 rows x 52 columns]"
      ]
     },
     "execution_count": 51,
     "metadata": {},
     "output_type": "execute_result"
    }
   ],
   "source": [
    "noise_complaints[:3]"
   ]
  },
  {
   "cell_type": "code",
   "execution_count": 52,
   "metadata": {
    "collapsed": false,
    "slideshow": {
     "slide_type": "fragment"
    }
   },
   "outputs": [],
   "source": [
    "noise_complaints = noise_complaints.set_index('Created Date')"
   ]
  },
  {
   "cell_type": "markdown",
   "metadata": {
    "slideshow": {
     "slide_type": "slide"
    }
   },
   "source": [
    "# Sorting the index"
   ]
  },
  {
   "cell_type": "code",
   "execution_count": 53,
   "metadata": {
    "collapsed": false,
    "slideshow": {
     "slide_type": "fragment"
    }
   },
   "outputs": [
    {
     "data": {
      "text/html": [
       "<div>\n",
       "<table border=\"1\" class=\"dataframe\">\n",
       "  <thead>\n",
       "    <tr style=\"text-align: right;\">\n",
       "      <th></th>\n",
       "      <th>Unique Key</th>\n",
       "      <th>Closed Date</th>\n",
       "      <th>Agency</th>\n",
       "      <th>Agency Name</th>\n",
       "      <th>Complaint Type</th>\n",
       "      <th>Descriptor</th>\n",
       "      <th>Location Type</th>\n",
       "      <th>Incident Zip</th>\n",
       "      <th>Incident Address</th>\n",
       "      <th>Street Name</th>\n",
       "      <th>...</th>\n",
       "      <th>Bridge Highway Name</th>\n",
       "      <th>Bridge Highway Direction</th>\n",
       "      <th>Road Ramp</th>\n",
       "      <th>Bridge Highway Segment</th>\n",
       "      <th>Garage Lot Name</th>\n",
       "      <th>Ferry Direction</th>\n",
       "      <th>Ferry Terminal Name</th>\n",
       "      <th>Latitude</th>\n",
       "      <th>Longitude</th>\n",
       "      <th>Location</th>\n",
       "    </tr>\n",
       "    <tr>\n",
       "      <th>Created Date</th>\n",
       "      <th></th>\n",
       "      <th></th>\n",
       "      <th></th>\n",
       "      <th></th>\n",
       "      <th></th>\n",
       "      <th></th>\n",
       "      <th></th>\n",
       "      <th></th>\n",
       "      <th></th>\n",
       "      <th></th>\n",
       "      <th></th>\n",
       "      <th></th>\n",
       "      <th></th>\n",
       "      <th></th>\n",
       "      <th></th>\n",
       "      <th></th>\n",
       "      <th></th>\n",
       "      <th></th>\n",
       "      <th></th>\n",
       "      <th></th>\n",
       "      <th></th>\n",
       "    </tr>\n",
       "  </thead>\n",
       "  <tbody>\n",
       "    <tr>\n",
       "      <th>2013-10-31 02:08:41</th>\n",
       "      <td>26589651</td>\n",
       "      <td>NaN</td>\n",
       "      <td>NYPD</td>\n",
       "      <td>New York City Police Department</td>\n",
       "      <td>Noise - Street/Sidewalk</td>\n",
       "      <td>Loud Talking</td>\n",
       "      <td>Street/Sidewalk</td>\n",
       "      <td>11432</td>\n",
       "      <td>90-03 169 STREET</td>\n",
       "      <td>169 STREET</td>\n",
       "      <td>...</td>\n",
       "      <td>NaN</td>\n",
       "      <td>NaN</td>\n",
       "      <td>NaN</td>\n",
       "      <td>NaN</td>\n",
       "      <td>NaN</td>\n",
       "      <td>NaN</td>\n",
       "      <td>NaN</td>\n",
       "      <td>40.708275</td>\n",
       "      <td>-73.791604</td>\n",
       "      <td>(40.70827532593202, -73.79160395779721)</td>\n",
       "    </tr>\n",
       "    <tr>\n",
       "      <th>2013-10-31 00:54:03</th>\n",
       "      <td>26594086</td>\n",
       "      <td>10/31/2013 02:16:39 AM</td>\n",
       "      <td>NYPD</td>\n",
       "      <td>New York City Police Department</td>\n",
       "      <td>Noise - Street/Sidewalk</td>\n",
       "      <td>Loud Music/Party</td>\n",
       "      <td>Street/Sidewalk</td>\n",
       "      <td>10310</td>\n",
       "      <td>173 CAMPBELL AVENUE</td>\n",
       "      <td>CAMPBELL AVENUE</td>\n",
       "      <td>...</td>\n",
       "      <td>NaN</td>\n",
       "      <td>NaN</td>\n",
       "      <td>NaN</td>\n",
       "      <td>NaN</td>\n",
       "      <td>NaN</td>\n",
       "      <td>NaN</td>\n",
       "      <td>NaN</td>\n",
       "      <td>40.636182</td>\n",
       "      <td>-74.116150</td>\n",
       "      <td>(40.63618202176914, -74.1161500428337)</td>\n",
       "    </tr>\n",
       "    <tr>\n",
       "      <th>2013-10-31 00:35:18</th>\n",
       "      <td>26591573</td>\n",
       "      <td>10/31/2013 02:41:35 AM</td>\n",
       "      <td>NYPD</td>\n",
       "      <td>New York City Police Department</td>\n",
       "      <td>Noise - Street/Sidewalk</td>\n",
       "      <td>Loud Talking</td>\n",
       "      <td>Street/Sidewalk</td>\n",
       "      <td>10312</td>\n",
       "      <td>24 PRINCETON LANE</td>\n",
       "      <td>PRINCETON LANE</td>\n",
       "      <td>...</td>\n",
       "      <td>NaN</td>\n",
       "      <td>NaN</td>\n",
       "      <td>NaN</td>\n",
       "      <td>NaN</td>\n",
       "      <td>NaN</td>\n",
       "      <td>NaN</td>\n",
       "      <td>NaN</td>\n",
       "      <td>40.553421</td>\n",
       "      <td>-74.196743</td>\n",
       "      <td>(40.55342078716953, -74.19674315017886)</td>\n",
       "    </tr>\n",
       "  </tbody>\n",
       "</table>\n",
       "<p>3 rows × 51 columns</p>\n",
       "</div>"
      ],
      "text/plain": [
       "                     Unique Key             Closed Date Agency  \\\n",
       "Created Date                                                     \n",
       "2013-10-31 02:08:41    26589651                     NaN   NYPD   \n",
       "2013-10-31 00:54:03    26594086  10/31/2013 02:16:39 AM   NYPD   \n",
       "2013-10-31 00:35:18    26591573  10/31/2013 02:41:35 AM   NYPD   \n",
       "\n",
       "                                         Agency Name           Complaint Type  \\\n",
       "Created Date                                                                    \n",
       "2013-10-31 02:08:41  New York City Police Department  Noise - Street/Sidewalk   \n",
       "2013-10-31 00:54:03  New York City Police Department  Noise - Street/Sidewalk   \n",
       "2013-10-31 00:35:18  New York City Police Department  Noise - Street/Sidewalk   \n",
       "\n",
       "                           Descriptor    Location Type Incident Zip  \\\n",
       "Created Date                                                          \n",
       "2013-10-31 02:08:41      Loud Talking  Street/Sidewalk        11432   \n",
       "2013-10-31 00:54:03  Loud Music/Party  Street/Sidewalk        10310   \n",
       "2013-10-31 00:35:18      Loud Talking  Street/Sidewalk        10312   \n",
       "\n",
       "                        Incident Address      Street Name  \\\n",
       "Created Date                                                \n",
       "2013-10-31 02:08:41     90-03 169 STREET       169 STREET   \n",
       "2013-10-31 00:54:03  173 CAMPBELL AVENUE  CAMPBELL AVENUE   \n",
       "2013-10-31 00:35:18    24 PRINCETON LANE   PRINCETON LANE   \n",
       "\n",
       "                                      ...                     \\\n",
       "Created Date                          ...                      \n",
       "2013-10-31 02:08:41                   ...                      \n",
       "2013-10-31 00:54:03                   ...                      \n",
       "2013-10-31 00:35:18                   ...                      \n",
       "\n",
       "                    Bridge Highway Name Bridge Highway Direction Road Ramp  \\\n",
       "Created Date                                                                 \n",
       "2013-10-31 02:08:41                 NaN                      NaN       NaN   \n",
       "2013-10-31 00:54:03                 NaN                      NaN       NaN   \n",
       "2013-10-31 00:35:18                 NaN                      NaN       NaN   \n",
       "\n",
       "                    Bridge Highway Segment Garage Lot Name Ferry Direction  \\\n",
       "Created Date                                                                 \n",
       "2013-10-31 02:08:41                    NaN             NaN             NaN   \n",
       "2013-10-31 00:54:03                    NaN             NaN             NaN   \n",
       "2013-10-31 00:35:18                    NaN             NaN             NaN   \n",
       "\n",
       "                    Ferry Terminal Name   Latitude  Longitude  \\\n",
       "Created Date                                                    \n",
       "2013-10-31 02:08:41                 NaN  40.708275 -73.791604   \n",
       "2013-10-31 00:54:03                 NaN  40.636182 -74.116150   \n",
       "2013-10-31 00:35:18                 NaN  40.553421 -74.196743   \n",
       "\n",
       "                                                    Location  \n",
       "Created Date                                                  \n",
       "2013-10-31 02:08:41  (40.70827532593202, -73.79160395779721)  \n",
       "2013-10-31 00:54:03   (40.63618202176914, -74.1161500428337)  \n",
       "2013-10-31 00:35:18  (40.55342078716953, -74.19674315017886)  \n",
       "\n",
       "[3 rows x 51 columns]"
      ]
     },
     "execution_count": 53,
     "metadata": {},
     "output_type": "execute_result"
    }
   ],
   "source": [
    "noise_complaintsa = noise_complaints.sort_index()\n",
    "noise_complaints[:3]"
   ]
  },
  {
   "cell_type": "markdown",
   "metadata": {
    "slideshow": {
     "slide_type": "slide"
    }
   },
   "source": [
    "# Example: What are the most common complaint types?"
   ]
  },
  {
   "cell_type": "code",
   "execution_count": 44,
   "metadata": {
    "collapsed": false,
    "slideshow": {
     "slide_type": "fragment"
    }
   },
   "outputs": [
    {
     "data": {
      "text/plain": [
       "HEATING                     13983\n",
       "GENERAL CONSTRUCTION         6859\n",
       "Street Light Condition       6513\n",
       "DOF Literature Request       5107\n",
       "PLUMBING                     4884\n",
       "PAINT - PLASTER              4671\n",
       "Blocked Driveway             3992\n",
       "NONCONST                     3646\n",
       "Street Condition             3070\n",
       "Noise                        2942\n",
       "Traffic Signal Condition     2895\n",
       "Illegal Parking              2865\n",
       "Dirty Conditions             2364\n",
       "ELECTRIC                     2154\n",
       "Noise - Commercial           2120\n",
       "...\n",
       "Window Guard                         2\n",
       "Legal Services Provider Complaint    2\n",
       "Public Assembly                      2\n",
       "Ferry Permit                         1\n",
       "Trans Fat                            1\n",
       "DFTA Literature Request              1\n",
       "Highway Sign - Damaged               1\n",
       "X-Ray Machine/Equipment              1\n",
       "DHS Income Savings Requirement       1\n",
       "Tunnel Condition                     1\n",
       "Snow                                 1\n",
       "Stalled Sites                        1\n",
       "Open Flame Permit                    1\n",
       "Municipal Parking Facility           1\n",
       "DWD                                  1\n",
       "Length: 165, dtype: int64"
      ]
     },
     "execution_count": 44,
     "metadata": {},
     "output_type": "execute_result"
    }
   ],
   "source": [
    "orig_data['Complaint Type'].value_counts()"
   ]
  },
  {
   "cell_type": "code",
   "execution_count": 57,
   "metadata": {
    "collapsed": false
   },
   "outputs": [
    {
     "data": {
      "text/plain": [
       "<matplotlib.axes._subplots.AxesSubplot at 0x1093f7cd0>"
      ]
     },
     "execution_count": 57,
     "metadata": {},
     "output_type": "execute_result"
    },
    {
     "data": {
      "image/png": "[encoded data removed]",
      "text/plain": [
       "<matplotlib.figure.Figure at 0x1147c2750>"
      ]
     },
     "metadata": {},
     "output_type": "display_data"
    }
   ],
   "source": [
    "orig_data['Complaint Type'].value_counts()[:20].plot(kind='bar')"
   ]
  },
  {
   "cell_type": "markdown",
   "metadata": {},
   "source": [
    "# Exercise: Do the same thing for another column"
   ]
  },
  {
   "cell_type": "code",
   "execution_count": 66,
   "metadata": {
    "collapsed": false
   },
   "outputs": [],
   "source": [
    "# Your code here."
   ]
  },
  {
   "cell_type": "code",
   "execution_count": null,
   "metadata": {
    "collapsed": true
   },
   "outputs": [],
   "source": []
  },
  {
   "cell_type": "code",
   "execution_count": null,
   "metadata": {
    "collapsed": true
   },
   "outputs": [],
   "source": []
  },
  {
   "cell_type": "markdown",
   "metadata": {},
   "source": [
    "# Advanced Example: Which weekday has the most noise complaints?"
   ]
  },
  {
   "cell_type": "code",
   "execution_count": 61,
   "metadata": {
    "collapsed": false
   },
   "outputs": [],
   "source": [
    "complaints = orig_data[['Created Date', 'Complaint Type']]\n",
    "noise_complaints = complaints[complaints['Complaint Type'] == 'Noise - Street/Sidewalk']\n",
    "noise_complaints = noise_complaints.set_index(\"Created Date\")"
   ]
  },
  {
   "cell_type": "code",
   "execution_count": 62,
   "metadata": {
    "collapsed": false
   },
   "outputs": [
    {
     "data": {
      "text/html": [
       "<div>\n",
       "<table border=\"1\" class=\"dataframe\">\n",
       "  <thead>\n",
       "    <tr style=\"text-align: right;\">\n",
       "      <th></th>\n",
       "      <th>Complaint Type</th>\n",
       "      <th>weekday</th>\n",
       "    </tr>\n",
       "    <tr>\n",
       "      <th>Created Date</th>\n",
       "      <th></th>\n",
       "      <th></th>\n",
       "    </tr>\n",
       "  </thead>\n",
       "  <tbody>\n",
       "    <tr>\n",
       "      <th>2013-10-31 02:08:41</th>\n",
       "      <td>Noise - Street/Sidewalk</td>\n",
       "      <td>3</td>\n",
       "    </tr>\n",
       "    <tr>\n",
       "      <th>2013-10-31 00:54:03</th>\n",
       "      <td>Noise - Street/Sidewalk</td>\n",
       "      <td>3</td>\n",
       "    </tr>\n",
       "    <tr>\n",
       "      <th>2013-10-31 00:35:18</th>\n",
       "      <td>Noise - Street/Sidewalk</td>\n",
       "      <td>3</td>\n",
       "    </tr>\n",
       "  </tbody>\n",
       "</table>\n",
       "</div>"
      ],
      "text/plain": [
       "                              Complaint Type  weekday\n",
       "Created Date                                         \n",
       "2013-10-31 02:08:41  Noise - Street/Sidewalk        3\n",
       "2013-10-31 00:54:03  Noise - Street/Sidewalk        3\n",
       "2013-10-31 00:35:18  Noise - Street/Sidewalk        3"
      ]
     },
     "execution_count": 62,
     "metadata": {},
     "output_type": "execute_result"
    }
   ],
   "source": [
    "noise_complaints['weekday'] = noise_complaints.index.weekday\n",
    "noise_complaints[:3]"
   ]
  },
  {
   "cell_type": "code",
   "execution_count": 63,
   "metadata": {
    "collapsed": false
   },
   "outputs": [
    {
     "data": {
      "text/html": [
       "<div>\n",
       "<table border=\"1\" class=\"dataframe\">\n",
       "  <thead>\n",
       "    <tr style=\"text-align: right;\">\n",
       "      <th></th>\n",
       "      <th>Complaint Type</th>\n",
       "    </tr>\n",
       "    <tr>\n",
       "      <th>weekday</th>\n",
       "      <th></th>\n",
       "    </tr>\n",
       "  </thead>\n",
       "  <tbody>\n",
       "    <tr>\n",
       "      <th>0</th>\n",
       "      <td>200</td>\n",
       "    </tr>\n",
       "    <tr>\n",
       "      <th>1</th>\n",
       "      <td>187</td>\n",
       "    </tr>\n",
       "    <tr>\n",
       "      <th>2</th>\n",
       "      <td>204</td>\n",
       "    </tr>\n",
       "    <tr>\n",
       "      <th>3</th>\n",
       "      <td>149</td>\n",
       "    </tr>\n",
       "    <tr>\n",
       "      <th>4</th>\n",
       "      <td>180</td>\n",
       "    </tr>\n",
       "    <tr>\n",
       "      <th>5</th>\n",
       "      <td>312</td>\n",
       "    </tr>\n",
       "    <tr>\n",
       "      <th>6</th>\n",
       "      <td>280</td>\n",
       "    </tr>\n",
       "  </tbody>\n",
       "</table>\n",
       "</div>"
      ],
      "text/plain": [
       "         Complaint Type\n",
       "weekday                \n",
       "0                   200\n",
       "1                   187\n",
       "2                   204\n",
       "3                   149\n",
       "4                   180\n",
       "5                   312\n",
       "6                   280"
      ]
     },
     "execution_count": 63,
     "metadata": {},
     "output_type": "execute_result"
    }
   ],
   "source": [
    "# Count the complaints by weekday\n",
    "counts_by_weekday = noise_complaints.groupby('weekday').aggregate(len)\n",
    "counts_by_weekday"
   ]
  },
  {
   "cell_type": "code",
   "execution_count": 64,
   "metadata": {
    "collapsed": false
   },
   "outputs": [],
   "source": [
    "# change the index to be actual days\n",
    "counts_by_weekday.index = [\"Sunday\", \"Monday\", \"Tuesday\", \"Wednesday\", \"Thursday\", \"Friday\", \"Saturday\"]"
   ]
  },
  {
   "cell_type": "code",
   "execution_count": 65,
   "metadata": {
    "collapsed": false
   },
   "outputs": [
    {
     "data": {
      "text/plain": [
       "<matplotlib.axes._subplots.AxesSubplot at 0x10a4d9710>"
      ]
     },
     "execution_count": 65,
     "metadata": {},
     "output_type": "execute_result"
    },
    {
     "data": {
      "image/png": "[encoded data removed]",
      "text/plain": [
       "<matplotlib.figure.Figure at 0x1095f0b10>"
      ]
     },
     "metadata": {},
     "output_type": "display_data"
    }
   ],
   "source": [
    "counts_by_weekday.plot(kind='bar')"
   ]
  },
  {
   "cell_type": "markdown",
   "metadata": {},
   "source": [
    "# String searching"
   ]
  },
  {
   "cell_type": "code",
   "execution_count": 77,
   "metadata": {
    "collapsed": false
   },
   "outputs": [],
   "source": [
    "# We need to get rid of the NA values for this to work\n",
    "street_names = orig_data['Street Name'].fillna('')"
   ]
  },
  {
   "cell_type": "code",
   "execution_count": 75,
   "metadata": {
    "collapsed": false
   },
   "outputs": [
    {
     "data": {
      "text/plain": [
       "263          MANHATTAN AVENUE\n",
       "1387         MANHATTAN AVENUE\n",
       "1589         MANHATTAN AVENUE\n",
       "1943         MANHATTAN AVENUE\n",
       "2826         MANHATTAN AVENUE\n",
       "2968         MANHATTAN AVENUE\n",
       "3364         MANHATTAN AVENUE\n",
       "6068         MANHATTAN AVENUE\n",
       "7359     MANHATTAN BEACH PARK\n",
       "7360     MANHATTAN BEACH PARK\n",
       "7917         MANHATTAN AVENUE\n",
       "10095        MANHATTAN AVENUE\n",
       "10688        MANHATTAN AVENUE\n",
       "11043        MANHATTAN AVENUE\n",
       "12668        MANHATTAN AVENUE\n",
       "...\n",
       "77358             MANHATTAN AVENUE\n",
       "77404    MANHATTAN COLLEGE PARKWAY\n",
       "77885             MANHATTAN AVENUE\n",
       "82118         MANHATTAN BEACH PARK\n",
       "82122         MANHATTAN BEACH PARK\n",
       "84985                MANHATTAN AVE\n",
       "85032             MANHATTAN AVENUE\n",
       "85202              MANHATTAN COURT\n",
       "85602             MANHATTAN AVENUE\n",
       "85680             MANHATTAN AVENUE\n",
       "89159             MANHATTAN AVENUE\n",
       "91088    MANHATTAN COLLEGE PARKWAY\n",
       "93843         MANHATTAN BEACH PARK\n",
       "95950             MANHATTAN AVENUE\n",
       "96630             MANHATTAN AVENUE\n",
       "Name: Street Name, Length: 106, dtype: object"
      ]
     },
     "execution_count": 75,
     "metadata": {},
     "output_type": "execute_result"
    }
   ],
   "source": [
    "manhattan_streets = street_names[street_names.str.contains(\"MANHATTAN\")]\n",
    "manhattan_streets"
   ]
  },
  {
   "cell_type": "code",
   "execution_count": 76,
   "metadata": {
    "collapsed": false
   },
   "outputs": [
    {
     "data": {
      "text/plain": [
       "MANHATTAN AVENUE             88\n",
       "MANHATTAN COLLEGE PARKWAY     7\n",
       "MANHATTAN BEACH PARK          6\n",
       "MANHATTAN STREET              3\n",
       "MANHATTAN COURT               1\n",
       "MANHATTAN AVE                 1\n",
       "dtype: int64"
      ]
     },
     "execution_count": 76,
     "metadata": {},
     "output_type": "execute_result"
    }
   ],
   "source": [
    "manhattan_streets.value_counts()"
   ]
  }
 ],
 "metadata": {
  "kernelspec": {
   "display_name": "Python 2",
   "language": "python",
   "name": "python2"
  },
  "language_info": {
   "codemirror_mode": {
    "name": "ipython",
    "version": 2
   },
   "file_extension": ".py",
   "mimetype": "text/x-python",
   "name": "python",
   "nbconvert_exporter": "python",
   "pygments_lexer": "ipython2",
   "version": "2.7.10"
  }
 },
 "nbformat": 4,
 "nbformat_minor": 0
}
